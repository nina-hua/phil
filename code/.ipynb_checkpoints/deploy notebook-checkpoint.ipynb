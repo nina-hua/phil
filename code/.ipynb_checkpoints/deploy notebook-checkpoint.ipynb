{
 "cells": [
  {
   "cell_type": "code",
   "execution_count": 1,
   "metadata": {},
   "outputs": [],
   "source": [
    "import paramiko\n",
    "from os.path import expanduser\n",
    "from user_definition import *"
   ]
  },
  {
   "cell_type": "code",
   "execution_count": 2,
   "metadata": {},
   "outputs": [],
   "source": [
    "def ssh_client():\n",
    "    \"\"\"Return ssh client object\"\"\"\n",
    "    return paramiko.SSHClient()\n",
    "\n",
    "\n",
    "def ssh_connection(ssh, ec2_address, user, key_file):\n",
    "    ssh.set_missing_host_key_policy(paramiko.AutoAddPolicy())\n",
    "    ssh.connect(ec2_address, username=user,\n",
    "                key_filename=expanduser(\"~\") + key_file)\n",
    "    return ssh\n",
    "\n",
    "\n",
    "def create_or_update_environment(ssh):\n",
    "    stdin, stdout, stderr = \\\n",
    "        ssh.exec_command(\"conda env create -f \"\n",
    "                         \"~/\" + git_repo_name + \"/environment.yml\")\n",
    "    if (b'already exists' in stderr.read()):\n",
    "        stdin, stdout, stderr = \\\n",
    "            ssh.exec_command(\"conda env update -f \"\n",
    "                              \"~/\" + git_repo_name + \"/environment.yml\")\n",
    "def git_clone(ssh):\n",
    "    stdin, stdout, stderr = ssh.exec_command(\"git --version\")\n",
    "    if (b\"\" is stderr.read()):\n",
    "        git_clone_command = \"git clone https://github.com/\" + \\\n",
    "                            git_user_id + \"/\" + git_repo_name + \".git\"\n",
    "        stdin, stdout, stderr = ssh.exec_command(git_clone_command)\n",
    "        # ---- HOMEWORK ----- #\n",
    "        if (b'already exists' in stderr.read()):\n",
    "            git_pull_command = \"git -C /home/ec2-user/\" \\\n",
    "                               + git_repo_name + \" pull\"\n",
    "            stdin, stdout, stderr = ssh.exec_command(git_pull_command)\n",
    "\n",
    "def create_or_update_environment(ssh):\n",
    "    stdin, stdout, stderr = \\\n",
    "        ssh.exec_command(\"conda env create -f \"\n",
    "                         \"~/\" + git_repo_name + \"/environment.yml\")\n",
    "    if (b'already exists' in stderr.read()):\n",
    "        stdin, stdout, stderr = \\\n",
    "            ssh.exec_command(\"conda env update -f \"\n",
    "                              \"~/\" + git_repo_name + \"/environment.yml\")            "
   ]
  },
  {
   "cell_type": "code",
   "execution_count": 3,
   "metadata": {},
   "outputs": [],
   "source": [
    "ssh = ssh_client()\n",
    "ssh_connection(ssh, ec2_address, user, key_file)\n",
    "git_clone(ssh)"
   ]
  },
  {
   "cell_type": "code",
   "execution_count": 4,
   "metadata": {},
   "outputs": [],
   "source": [
    "# err = str(stderr.read())\n",
    "# if \"b'bash: git: command not found\\\\n'\" == err:\n",
    "#     print('exec')\n",
    "#     git_command = \"yum install git\"\n",
    "#     stdin, stdout, stderr = ssh.exec_command(git_command)"
   ]
  },
  {
   "cell_type": "code",
   "execution_count": 9,
   "metadata": {},
   "outputs": [],
   "source": [
    "crontab_command = \"crontab -e * * * * * ~/.conda/env/phil/python /home/ec2-user/\" + git_repo_name + \"\""
   ]
  },
  {
   "cell_type": "code",
   "execution_count": null,
   "metadata": {},
   "outputs": [],
   "source": []
  }
 ],
 "metadata": {
  "kernelspec": {
   "display_name": "Python 3",
   "language": "python",
   "name": "python3"
  },
  "language_info": {
   "codemirror_mode": {
    "name": "ipython",
    "version": 3
   },
   "file_extension": ".py",
   "mimetype": "text/x-python",
   "name": "python",
   "nbconvert_exporter": "python",
   "pygments_lexer": "ipython3",
   "version": "3.7.1"
  }
 },
 "nbformat": 4,
 "nbformat_minor": 2
}
